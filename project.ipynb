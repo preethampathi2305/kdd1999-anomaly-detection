{
 "cells": [
  {
   "cell_type": "code",
   "execution_count": 1,
   "metadata": {},
   "outputs": [],
   "source": [
    "# ! wget http://kdd.ics.uci.edu/databases/kddcup99/kddcup.data.gz\n",
    "# ! wget http://kdd.ics.uci.edu/databases/kddcup99/kddcup.names\n",
    "# ! gzip -d kddcup.data.gz"
   ]
  },
  {
   "cell_type": "code",
   "execution_count": 1,
   "metadata": {},
   "outputs": [],
   "source": [
    "import matplotlib.pyplot as plt"
   ]
  },
  {
   "cell_type": "code",
   "execution_count": 2,
   "metadata": {},
   "outputs": [
    {
     "name": "stderr",
     "output_type": "stream",
     "text": [
      "Setting default log level to \"WARN\".\n",
      "To adjust logging level use sc.setLogLevel(newLevel). For SparkR, use setLogLevel(newLevel).\n"
     ]
    },
    {
     "name": "stdout",
     "output_type": "stream",
     "text": [
      "23/11/29 13:44:45 WARN NativeCodeLoader: Unable to load native-hadoop library for your platform... using builtin-java classes where applicable\n"
     ]
    }
   ],
   "source": [
    "import pyspark\n",
    "from pyspark.sql import SparkSession\n",
    "from pyspark.sql.functions import *\n",
    "from pyspark.sql.types import *\n",
    "\n",
    "spark = SparkSession.builder.appName(\"Project\")\\\n",
    "    .config(\"spark.driver.memory\", \"15g\")\\\n",
    "    .config(\"spark.executor.memory\", \"15g\")\\\n",
    "    .config(\"spark.memory.offHeap.enabled\",True)\\\n",
    "    .config(\"spark.memory.offHeap.size\",\"15g\")\\\n",
    "    .getOrCreate()\n",
    "\n",
    "spark.sparkContext.setLogLevel('WARN')"
   ]
  },
  {
   "cell_type": "code",
   "execution_count": 3,
   "metadata": {},
   "outputs": [
    {
     "name": "stdout",
     "output_type": "stream",
     "text": [
      "['duration', 'protocol_type', 'service', 'flag', 'src_bytes', 'dst_bytes', 'land', 'wrong_fragment', 'urgent', 'hot', 'num_failed_logins', 'logged_in', 'num_compromised', 'root_shell', 'su_attempted', 'num_root', 'num_file_creations', 'num_shells', 'num_access_files', 'num_outbound_cmds', 'is_host_login', 'is_guest_login', 'count', 'srv_count', 'serror_rate', 'srv_serror_rate', 'rerror_rate', 'srv_rerror_rate', 'same_srv_rate', 'diff_srv_rate', 'srv_diff_host_rate', 'dst_host_count', 'dst_host_srv_count', 'dst_host_same_srv_rate', 'dst_host_diff_srv_rate', 'dst_host_same_src_port_rate', 'dst_host_srv_diff_host_rate', 'dst_host_serror_rate', 'dst_host_srv_serror_rate', 'dst_host_rerror_rate', 'dst_host_srv_rerror_rate'] ['float', 'string', 'string', 'string', 'float', 'float', 'string', 'float', 'float', 'float', 'float', 'string', 'float', 'float', 'float', 'float', 'float', 'float', 'float', 'float', 'string', 'string', 'float', 'float', 'float', 'float', 'float', 'float', 'float', 'float', 'float', 'float', 'float', 'float', 'float', 'float', 'float', 'float', 'float', 'float', 'float']\n"
     ]
    }
   ],
   "source": [
    "with open(\"kddcup.names\", \"r\") as f:\n",
    "    names = f.readlines()\n",
    "    dtypes = [name.split(\":\")[1].strip()[:-1] for name in names[1:]]\n",
    "    dtypes = ['float' if dtype == 'continuous' else 'string' for dtype in dtypes]\n",
    "    names = [name.split(\":\")[0] for name in names[1:]]\n",
    "print(names, dtypes)"
   ]
  },
  {
   "cell_type": "code",
   "execution_count": 4,
   "metadata": {},
   "outputs": [
    {
     "name": "stdout",
     "output_type": "stream",
     "text": [
      "23/11/29 13:44:49 WARN package: Truncated the string representation of a plan since it was too large. This behavior can be adjusted by setting 'spark.sql.debug.maxToStringFields'.\n"
     ]
    },
    {
     "name": "stderr",
     "output_type": "stream",
     "text": [
      "[Stage 0:===================================================>     (36 + 4) / 40]\r"
     ]
    },
    {
     "name": "stdout",
     "output_type": "stream",
     "text": [
      "+--------+-------------+-------+----+---------+---------+----+--------------+------+---+-----------------+---------+---------------+----------+------------+--------+------------------+----------+----------------+-----------------+-------------+--------------+-----+---------+-----------+---------------+-----------+---------------+-------------+-------------+------------------+--------------+------------------+----------------------+----------------------+---------------------------+---------------------------+--------------------+------------------------+--------------------+------------------------+-------+\n",
      "|duration|protocol_type|service|flag|src_bytes|dst_bytes|land|wrong_fragment|urgent|hot|num_failed_logins|logged_in|num_compromised|root_shell|su_attempted|num_root|num_file_creations|num_shells|num_access_files|num_outbound_cmds|is_host_login|is_guest_login|count|srv_count|serror_rate|srv_serror_rate|rerror_rate|srv_rerror_rate|same_srv_rate|diff_srv_rate|srv_diff_host_rate|dst_host_count|dst_host_srv_count|dst_host_same_srv_rate|dst_host_diff_srv_rate|dst_host_same_src_port_rate|dst_host_srv_diff_host_rate|dst_host_serror_rate|dst_host_srv_serror_rate|dst_host_rerror_rate|dst_host_srv_rerror_rate|  label|\n",
      "+--------+-------------+-------+----+---------+---------+----+--------------+------+---+-----------------+---------+---------------+----------+------------+--------+------------------+----------+----------------+-----------------+-------------+--------------+-----+---------+-----------+---------------+-----------+---------------+-------------+-------------+------------------+--------------+------------------+----------------------+----------------------+---------------------------+---------------------------+--------------------+------------------------+--------------------+------------------------+-------+\n",
      "|     0.0|          tcp|   http|  SF|    165.0|   5450.0|   0|           0.0|   0.0|0.0|              0.0|        1|            0.0|       0.0|         0.0|     0.0|               0.0|       0.0|             0.0|              0.0|            0|             0|  3.0|      3.0|        0.0|            0.0|        0.0|            0.0|          1.0|          0.0|               0.0|          46.0|              46.0|                   1.0|                   0.0|                       0.02|                        0.0|                 0.0|                     0.0|                 0.0|                     0.0|normal.|\n",
      "|     0.0|          tcp|   http|  SF|    355.0|  11201.0|   0|           0.0|   0.0|0.0|              0.0|        1|            0.0|       0.0|         0.0|     0.0|               0.0|       0.0|             0.0|              0.0|            0|             0|  1.0|      1.0|        0.0|            0.0|        0.0|            0.0|          1.0|          0.0|               0.0|           4.0|              67.0|                   1.0|                   0.0|                       0.25|                       0.03|                 0.0|                     0.0|                 0.0|                     0.0|normal.|\n",
      "|     0.0|          tcp|   http|  SF|    185.0|  10820.0|   0|           0.0|   0.0|0.0|              0.0|        1|            0.0|       0.0|         0.0|     0.0|               0.0|       0.0|             0.0|              0.0|            0|             0| 15.0|     15.0|        0.0|            0.0|        0.0|            0.0|          1.0|          0.0|               0.0|          47.0|             182.0|                   1.0|                   0.0|                       0.02|                       0.03|                 0.0|                     0.0|                 0.0|                     0.0|normal.|\n",
      "|     0.0|          tcp|   http|  SF|    325.0|    424.0|   0|           0.0|   0.0|0.0|              0.0|        1|            0.0|       0.0|         0.0|     0.0|               0.0|       0.0|             0.0|              0.0|            0|             0|  8.0|      8.0|        0.0|            0.0|        0.0|            0.0|          1.0|          0.0|               0.0|          68.0|             255.0|                   1.0|                   0.0|                       0.01|                       0.04|                 0.0|                     0.0|                 0.0|                     0.0|normal.|\n",
      "|     0.0|          tcp|   http|  SF|    307.0|   1030.0|   0|           0.0|   0.0|0.0|              0.0|        1|            0.0|       0.0|         0.0|     0.0|               0.0|       0.0|             0.0|              0.0|            0|             0| 21.0|     21.0|        0.0|            0.0|        0.0|            0.0|          1.0|          0.0|               0.0|          21.0|             255.0|                   1.0|                   0.0|                       0.05|                       0.05|                 0.0|                     0.0|                 0.0|                     0.0|normal.|\n",
      "+--------+-------------+-------+----+---------+---------+----+--------------+------+---+-----------------+---------+---------------+----------+------------+--------+------------------+----------+----------------+-----------------+-------------+--------------+-----+---------+-----------+---------------+-----------+---------------+-------------+-------------+------------------+--------------+------------------+----------------------+----------------------+---------------------------+---------------------------+--------------------+------------------------+--------------------+------------------------+-------+\n",
      "only showing top 5 rows\n",
      "\n"
     ]
    },
    {
     "name": "stderr",
     "output_type": "stream",
     "text": [
      "                                                                                \r"
     ]
    }
   ],
   "source": [
    "schema = StructType()\n",
    "for name, dtype in zip(names, dtypes):\n",
    "    schema.add(name, dtype)\n",
    "schema.add(\"label\", \"string\")\n",
    "\n",
    "dtype_dict = dict(zip(names, dtypes))\n",
    "dtype_dict[\"label\"] = \"string\"\n",
    "df = spark.read.csv(\"kddcup.data\", header=False, schema=schema)\n",
    "df = df.dropDuplicates()\n",
    "df = df.dropna()\n",
    "df.show(5)"
   ]
  },
  {
   "cell_type": "code",
   "execution_count": 5,
   "metadata": {},
   "outputs": [
    {
     "name": "stderr",
     "output_type": "stream",
     "text": [
      "[Stage 3:================================================>        (34 + 6) / 40]\r"
     ]
    },
    {
     "name": "stdout",
     "output_type": "stream",
     "text": [
      "+-------------+-------+----+----+---------+-------------+--------------+-----+\n",
      "|protocol_type|service|flag|land|logged_in|is_host_login|is_guest_login|label|\n",
      "+-------------+-------+----+----+---------+-------------+--------------+-----+\n",
      "|            3|     70|  11|   2|        2|            2|             2|   23|\n",
      "+-------------+-------+----+----+---------+-------------+--------------+-----+\n",
      "\n"
     ]
    },
    {
     "name": "stderr",
     "output_type": "stream",
     "text": [
      "                                                                                \r"
     ]
    }
   ],
   "source": [
    "# count distinct values for each string column\n",
    "df.select([countDistinct(c).alias(c) for c in df.columns if dtype_dict[c]=='string']).show()"
   ]
  },
  {
   "cell_type": "code",
   "execution_count": 6,
   "metadata": {},
   "outputs": [],
   "source": [
    "df = df.withColumn(\"label\", when(col(\"label\") == \"normal.\", 0).otherwise(1))\n",
    "df = df.withColumnRenamed(\"label\", \"anomaly\")"
   ]
  },
  {
   "cell_type": "code",
   "execution_count": 7,
   "metadata": {},
   "outputs": [
    {
     "name": "stderr",
     "output_type": "stream",
     "text": [
      "                                                                                \r"
     ]
    }
   ],
   "source": [
    "from pyspark.ml.feature import OneHotEncoder\n",
    "from pyspark.ml import Pipeline\n",
    "from pyspark.ml.feature import StringIndexer\n",
    "\n",
    "string_cols = [c for c in df.columns if c != \"anomaly\" and dtype_dict[c]=='string']\n",
    "string_cols.remove(\"service\")\n",
    "string_cols.remove(\"flag\")\n",
    "\n",
    "indexers = [StringIndexer(inputCol=column, outputCol=column+\"_index\") for column in string_cols]\n",
    "pipeline = Pipeline(stages=indexers)\n",
    "df = pipeline.fit(df).transform(df)\n",
    "\n",
    "indexer = StringIndexer(inputCol=\"service\", outputCol=\"service_index\")\n",
    "df = indexer.fit(df).transform(df)\n",
    "\n",
    "indexer = StringIndexer(inputCol=\"flag\", outputCol=\"flag_index\")\n",
    "df = indexer.fit(df).transform(df)\n",
    "\n",
    "encoder = OneHotEncoder(inputCols=[\"protocol_type_index\", \"land_index\", \"logged_in_index\", \"is_host_login_index\", \"is_guest_login_index\", \"service_index\", \"flag_index\"], outputCols=[\"protocol_type_encoded\", \"land_encoded\", \"logged_in_encoded\", \"is_host_login_encoded\", \"is_guest_login_encoded\", \"service_encoded\", \"flag_encoded\"])\n",
    "df = encoder.fit(df).transform(df)\n",
    "\n",
    "df = df.drop(\"protocol_type\", \"land\", \"logged_in\", \"is_host_login\", \"is_guest_login\", \"service\", \"flag\", \"protocol_type_index\", \"land_index\", \"logged_in_index\", \"is_host_login_index\", \"is_guest_login_index\", \"service_index\", \"flag_index\")"
   ]
  },
  {
   "cell_type": "code",
   "execution_count": 8,
   "metadata": {},
   "outputs": [],
   "source": [
    "# vectorize features\n",
    "from pyspark.ml.feature import VectorAssembler\n",
    "assembler = VectorAssembler(inputCols=list(set(df.columns)-set(['anomaly'])), outputCol=\"features\")\n",
    "df = assembler.transform(df)\n",
    "df = df.select(\"features\", \"anomaly\")"
   ]
  },
  {
   "cell_type": "code",
   "execution_count": 9,
   "metadata": {},
   "outputs": [
    {
     "name": "stderr",
     "output_type": "stream",
     "text": [
      "                                                                                \r"
     ]
    }
   ],
   "source": [
    "# scale features\n",
    "from pyspark.ml.feature import StandardScaler\n",
    "scaler = StandardScaler(inputCol=\"features\", outputCol=\"scaled_features\")\n",
    "scalerModel = scaler.fit(df)\n",
    "df = scalerModel.transform(df)\n",
    "df = df.select(\"scaled_features\", \"anomaly\")"
   ]
  },
  {
   "cell_type": "code",
   "execution_count": 10,
   "metadata": {},
   "outputs": [
    {
     "name": "stderr",
     "output_type": "stream",
     "text": [
      "                                                                                \r"
     ]
    },
    {
     "name": "stdout",
     "output_type": "stream",
     "text": [
      "23/11/29 13:47:10 WARN LAPACK: Failed to load implementation from: com.github.fommil.netlib.NativeSystemLAPACK\n",
      "23/11/29 13:47:10 WARN LAPACK: Failed to load implementation from: com.github.fommil.netlib.NativeRefLAPACK\n"
     ]
    }
   ],
   "source": [
    "from pyspark.ml.feature import PCA\n",
    "pca = PCA(k=90, inputCol=\"scaled_features\", outputCol=\"pca_features\")\n",
    "model = pca.fit(df)"
   ]
  },
  {
   "cell_type": "code",
   "execution_count": 11,
   "metadata": {},
   "outputs": [
    {
     "data": {
      "text/plain": [
       "0.9661579155925581"
      ]
     },
     "execution_count": 11,
     "metadata": {},
     "output_type": "execute_result"
    }
   ],
   "source": [
    "model.explainedVariance.sum()"
   ]
  },
  {
   "cell_type": "code",
   "execution_count": 12,
   "metadata": {},
   "outputs": [
    {
     "data": {
      "image/png": "[encoded data removed]",
      "text/plain": [
       "<Figure size 640x480 with 1 Axes>"
      ]
     },
     "metadata": {},
     "output_type": "display_data"
    }
   ],
   "source": [
    "# plot explained variance ratio\n",
    "plt.plot(model.explainedVariance.toArray()/model.explainedVariance.sum())\n",
    "plt.xlabel(\"Principal Component\")\n",
    "plt.ylabel(\"Explained Variance Ratio\")\n",
    "plt.title('Scree Plot')\n",
    "plt.show()"
   ]
  },
  {
   "cell_type": "markdown",
   "metadata": {},
   "source": [
    "# Since more than 95% of the variance is explained by the first 90 components, we can reduce the dimensionality of the data to 90 dimensions."
   ]
  },
  {
   "cell_type": "code",
   "execution_count": 13,
   "metadata": {},
   "outputs": [
    {
     "name": "stderr",
     "output_type": "stream",
     "text": [
      "[Stage 75:======================================================> (39 + 1) / 40]\r"
     ]
    },
    {
     "name": "stdout",
     "output_type": "stream",
     "text": [
      "+--------------------+-------+\n",
      "|        pca_features|anomaly|\n",
      "+--------------------+-------+\n",
      "|[-3.3048224013264...|      0|\n",
      "|[-3.4908481633426...|      0|\n",
      "|[-3.6143258785923...|      0|\n",
      "|[-3.7769945788024...|      0|\n",
      "|[-3.8323102400812...|      0|\n",
      "+--------------------+-------+\n",
      "only showing top 5 rows\n",
      "\n"
     ]
    },
    {
     "name": "stderr",
     "output_type": "stream",
     "text": [
      "                                                                                \r"
     ]
    }
   ],
   "source": [
    "df = model.transform(df)\n",
    "df = df.select(\"pca_features\", \"anomaly\")\n",
    "df.show(5)"
   ]
  },
  {
   "cell_type": "code",
   "execution_count": 14,
   "metadata": {},
   "outputs": [
    {
     "name": "stderr",
     "output_type": "stream",
     "text": [
      "                                                                                \r"
     ]
    },
    {
     "name": "stdout",
     "output_type": "stream",
     "text": [
      "752458\n"
     ]
    },
    {
     "name": "stderr",
     "output_type": "stream",
     "text": [
      "[Stage 86:======================================================> (44 + 1) / 45]\r"
     ]
    },
    {
     "name": "stdout",
     "output_type": "stream",
     "text": [
      "322534\n"
     ]
    },
    {
     "name": "stderr",
     "output_type": "stream",
     "text": [
      "                                                                                \r"
     ]
    }
   ],
   "source": [
    "train, test = df.randomSplit([0.7, 0.3], seed=12345)\n",
    "print(train.count())\n",
    "print(test.count())"
   ]
  },
  {
   "cell_type": "markdown",
   "metadata": {},
   "source": [
    "## According to the literature review, AdaBoost had the best performance in the classification of the data. But, PySpark does not have an implementation of AdaBoost. So, we will use GBTClassifier instead."
   ]
  },
  {
   "cell_type": "code",
   "execution_count": null,
   "metadata": {},
   "outputs": [],
   "source": [
    "from pyspark.ml.classification import GBTClassifier\n",
    "from pyspark.ml.evaluation import BinaryClassificationEvaluator\n",
    "from pyspark.ml.tuning import ParamGridBuilder, CrossValidator\n",
    "\n",
    "gbt = GBTClassifier(labelCol=\"anomaly\", featuresCol=\"pca_features\", maxIter=10)\n",
    "paramGrid = ParamGridBuilder()\\\n",
    "    .addGrid(gbt.maxDepth, [2, 5, 10])\\\n",
    "    .addGrid(gbt.maxBins, [10, 20, 40])\\\n",
    "    .addGrid(gbt.maxIter, [10, 20, 40])\\\n",
    "    .build()\n",
    "evaluator = BinaryClassificationEvaluator(labelCol=\"anomaly\", rawPredictionCol=\"prediction\", metricName=\"areaUnderROC\")\n",
    "cv = CrossValidator(estimator=gbt, estimatorParamMaps=paramGrid, evaluator=evaluator, numFolds=3)\n",
    "\n",
    "cvModel = cv.fit(train)\n",
    "print(cvModel.avgMetrics)\n",
    "print(cvModel.bestModel)\n",
    "\n",
    "# save the best model\n",
    "cvModel.bestModel.save(\"best_model\")"
   ]
  },
  {
   "cell_type": "code",
   "execution_count": 15,
   "metadata": {},
   "outputs": [
    {
     "name": "stderr",
     "output_type": "stream",
     "text": [
      "                                                                                \r"
     ]
    },
    {
     "name": "stdout",
     "output_type": "stream",
     "text": [
      "23/11/29 13:51:17 WARN DAGScheduler: Broadcasting large task binary with size 1007.5 KiB\n",
      "23/11/29 13:51:18 WARN DAGScheduler: Broadcasting large task binary with size 1003.9 KiB\n",
      "23/11/29 13:51:18 WARN DAGScheduler: Broadcasting large task binary with size 1004.4 KiB\n",
      "23/11/29 13:51:18 WARN DAGScheduler: Broadcasting large task binary with size 1005.0 KiB\n",
      "23/11/29 13:51:18 WARN DAGScheduler: Broadcasting large task binary with size 1006.1 KiB\n",
      "23/11/29 13:51:18 WARN DAGScheduler: Broadcasting large task binary with size 1008.3 KiB\n",
      "23/11/29 13:51:19 WARN DAGScheduler: Broadcasting large task binary with size 1011.3 KiB\n",
      "23/11/29 13:51:19 WARN DAGScheduler: Broadcasting large task binary with size 1015.5 KiB\n",
      "23/11/29 13:51:19 WARN DAGScheduler: Broadcasting large task binary with size 1022.9 KiB\n",
      "23/11/29 13:51:19 WARN DAGScheduler: Broadcasting large task binary with size 1034.8 KiB\n",
      "23/11/29 13:51:20 WARN DAGScheduler: Broadcasting large task binary with size 1052.8 KiB\n",
      "23/11/29 13:51:20 WARN DAGScheduler: Broadcasting large task binary with size 1049.3 KiB\n",
      "23/11/29 13:51:20 WARN DAGScheduler: Broadcasting large task binary with size 1049.8 KiB\n",
      "23/11/29 13:51:20 WARN DAGScheduler: Broadcasting large task binary with size 1050.4 KiB\n",
      "23/11/29 13:51:21 WARN DAGScheduler: Broadcasting large task binary with size 1051.5 KiB\n",
      "23/11/29 13:51:21 WARN DAGScheduler: Broadcasting large task binary with size 1053.7 KiB\n",
      "23/11/29 13:51:21 WARN DAGScheduler: Broadcasting large task binary with size 1057.0 KiB\n",
      "23/11/29 13:51:21 WARN DAGScheduler: Broadcasting large task binary with size 1061.1 KiB\n",
      "23/11/29 13:51:21 WARN DAGScheduler: Broadcasting large task binary with size 1068.0 KiB\n",
      "23/11/29 13:51:22 WARN DAGScheduler: Broadcasting large task binary with size 1079.7 KiB\n",
      "23/11/29 13:51:22 WARN DAGScheduler: Broadcasting large task binary with size 1097.9 KiB\n",
      "23/11/29 13:51:22 WARN DAGScheduler: Broadcasting large task binary with size 1094.9 KiB\n",
      "23/11/29 13:51:23 WARN DAGScheduler: Broadcasting large task binary with size 1095.3 KiB\n",
      "23/11/29 13:51:23 WARN DAGScheduler: Broadcasting large task binary with size 1095.9 KiB\n",
      "23/11/29 13:51:23 WARN DAGScheduler: Broadcasting large task binary with size 1097.1 KiB\n",
      "23/11/29 13:51:23 WARN DAGScheduler: Broadcasting large task binary with size 1099.3 KiB\n",
      "23/11/29 13:51:23 WARN DAGScheduler: Broadcasting large task binary with size 1102.5 KiB\n",
      "23/11/29 13:51:23 WARN DAGScheduler: Broadcasting large task binary with size 1106.7 KiB\n",
      "23/11/29 13:51:24 WARN DAGScheduler: Broadcasting large task binary with size 1113.9 KiB\n",
      "23/11/29 13:51:24 WARN DAGScheduler: Broadcasting large task binary with size 1125.7 KiB\n",
      "23/11/29 13:51:24 WARN DAGScheduler: Broadcasting large task binary with size 1143.2 KiB\n",
      "23/11/29 13:51:24 WARN DAGScheduler: Broadcasting large task binary with size 1139.9 KiB\n",
      "23/11/29 13:51:25 WARN DAGScheduler: Broadcasting large task binary with size 1140.4 KiB\n",
      "23/11/29 13:51:25 WARN DAGScheduler: Broadcasting large task binary with size 1141.0 KiB\n",
      "23/11/29 13:51:25 WARN DAGScheduler: Broadcasting large task binary with size 1142.1 KiB\n",
      "23/11/29 13:51:25 WARN DAGScheduler: Broadcasting large task binary with size 1144.3 KiB\n",
      "23/11/29 13:51:26 WARN DAGScheduler: Broadcasting large task binary with size 1147.3 KiB\n",
      "23/11/29 13:51:26 WARN DAGScheduler: Broadcasting large task binary with size 1151.5 KiB\n",
      "23/11/29 13:51:26 WARN DAGScheduler: Broadcasting large task binary with size 1158.4 KiB\n",
      "23/11/29 13:51:26 WARN DAGScheduler: Broadcasting large task binary with size 1170.3 KiB\n",
      "23/11/29 13:51:26 WARN DAGScheduler: Broadcasting large task binary with size 1188.7 KiB\n",
      "23/11/29 13:51:27 WARN DAGScheduler: Broadcasting large task binary with size 1186.8 KiB\n",
      "23/11/29 13:51:27 WARN DAGScheduler: Broadcasting large task binary with size 1187.3 KiB\n",
      "23/11/29 13:51:27 WARN DAGScheduler: Broadcasting large task binary with size 1187.8 KiB\n",
      "23/11/29 13:51:27 WARN DAGScheduler: Broadcasting large task binary with size 1189.0 KiB\n",
      "23/11/29 13:51:28 WARN DAGScheduler: Broadcasting large task binary with size 1191.2 KiB\n",
      "23/11/29 13:51:28 WARN DAGScheduler: Broadcasting large task binary with size 1194.2 KiB\n",
      "23/11/29 13:51:28 WARN DAGScheduler: Broadcasting large task binary with size 1198.4 KiB\n",
      "23/11/29 13:51:28 WARN DAGScheduler: Broadcasting large task binary with size 1205.2 KiB\n",
      "23/11/29 13:51:28 WARN DAGScheduler: Broadcasting large task binary with size 1216.8 KiB\n",
      "23/11/29 13:51:29 WARN DAGScheduler: Broadcasting large task binary with size 1235.0 KiB\n",
      "23/11/29 13:51:29 WARN DAGScheduler: Broadcasting large task binary with size 1232.5 KiB\n",
      "23/11/29 13:51:29 WARN DAGScheduler: Broadcasting large task binary with size 1233.0 KiB\n",
      "23/11/29 13:51:30 WARN DAGScheduler: Broadcasting large task binary with size 1233.5 KiB\n",
      "23/11/29 13:51:30 WARN DAGScheduler: Broadcasting large task binary with size 1234.7 KiB\n",
      "23/11/29 13:51:30 WARN DAGScheduler: Broadcasting large task binary with size 1236.9 KiB\n",
      "23/11/29 13:51:30 WARN DAGScheduler: Broadcasting large task binary with size 1239.9 KiB\n",
      "23/11/29 13:51:30 WARN DAGScheduler: Broadcasting large task binary with size 1244.1 KiB\n",
      "23/11/29 13:51:31 WARN DAGScheduler: Broadcasting large task binary with size 1251.2 KiB\n",
      "23/11/29 13:51:31 WARN DAGScheduler: Broadcasting large task binary with size 1263.1 KiB\n",
      "23/11/29 13:51:31 WARN DAGScheduler: Broadcasting large task binary with size 1281.5 KiB\n",
      "23/11/29 13:51:31 WARN DAGScheduler: Broadcasting large task binary with size 1278.2 KiB\n",
      "23/11/29 13:51:32 WARN DAGScheduler: Broadcasting large task binary with size 1278.7 KiB\n",
      "23/11/29 13:51:32 WARN DAGScheduler: Broadcasting large task binary with size 1279.2 KiB\n",
      "23/11/29 13:51:32 WARN DAGScheduler: Broadcasting large task binary with size 1280.4 KiB\n",
      "23/11/29 13:51:32 WARN DAGScheduler: Broadcasting large task binary with size 1282.6 KiB\n",
      "23/11/29 13:51:33 WARN DAGScheduler: Broadcasting large task binary with size 1285.6 KiB\n",
      "23/11/29 13:51:33 WARN DAGScheduler: Broadcasting large task binary with size 1289.7 KiB\n",
      "23/11/29 13:51:33 WARN DAGScheduler: Broadcasting large task binary with size 1296.6 KiB\n",
      "23/11/29 13:51:33 WARN DAGScheduler: Broadcasting large task binary with size 1308.5 KiB\n",
      "23/11/29 13:51:33 WARN DAGScheduler: Broadcasting large task binary with size 1326.7 KiB\n",
      "23/11/29 13:51:34 WARN DAGScheduler: Broadcasting large task binary with size 1324.9 KiB\n",
      "23/11/29 13:51:34 WARN DAGScheduler: Broadcasting large task binary with size 1325.3 KiB\n",
      "23/11/29 13:51:34 WARN DAGScheduler: Broadcasting large task binary with size 1325.9 KiB\n",
      "23/11/29 13:51:35 WARN DAGScheduler: Broadcasting large task binary with size 1327.1 KiB\n",
      "23/11/29 13:51:35 WARN DAGScheduler: Broadcasting large task binary with size 1329.2 KiB\n",
      "23/11/29 13:51:35 WARN DAGScheduler: Broadcasting large task binary with size 1332.2 KiB\n",
      "23/11/29 13:51:35 WARN DAGScheduler: Broadcasting large task binary with size 1336.4 KiB\n",
      "23/11/29 13:51:35 WARN DAGScheduler: Broadcasting large task binary with size 1343.3 KiB\n",
      "23/11/29 13:51:36 WARN DAGScheduler: Broadcasting large task binary with size 1355.3 KiB\n",
      "23/11/29 13:51:36 WARN DAGScheduler: Broadcasting large task binary with size 1373.3 KiB\n",
      "23/11/29 13:51:36 WARN DAGScheduler: Broadcasting large task binary with size 1370.3 KiB\n",
      "23/11/29 13:51:37 WARN DAGScheduler: Broadcasting large task binary with size 1370.7 KiB\n",
      "23/11/29 13:51:37 WARN DAGScheduler: Broadcasting large task binary with size 1371.3 KiB\n",
      "23/11/29 13:51:37 WARN DAGScheduler: Broadcasting large task binary with size 1372.4 KiB\n",
      "23/11/29 13:51:37 WARN DAGScheduler: Broadcasting large task binary with size 1374.6 KiB\n",
      "23/11/29 13:51:37 WARN DAGScheduler: Broadcasting large task binary with size 1377.6 KiB\n",
      "23/11/29 13:51:38 WARN DAGScheduler: Broadcasting large task binary with size 1381.8 KiB\n",
      "23/11/29 13:51:38 WARN DAGScheduler: Broadcasting large task binary with size 1388.7 KiB\n",
      "23/11/29 13:51:38 WARN DAGScheduler: Broadcasting large task binary with size 1400.6 KiB\n",
      "23/11/29 13:51:38 WARN DAGScheduler: Broadcasting large task binary with size 1418.8 KiB\n",
      "23/11/29 13:51:39 WARN DAGScheduler: Broadcasting large task binary with size 1415.9 KiB\n",
      "23/11/29 13:51:39 WARN DAGScheduler: Broadcasting large task binary with size 1416.4 KiB\n",
      "23/11/29 13:51:39 WARN DAGScheduler: Broadcasting large task binary with size 1417.0 KiB\n",
      "23/11/29 13:51:39 WARN DAGScheduler: Broadcasting large task binary with size 1418.1 KiB\n",
      "23/11/29 13:51:39 WARN DAGScheduler: Broadcasting large task binary with size 1420.3 KiB\n",
      "23/11/29 13:51:40 WARN DAGScheduler: Broadcasting large task binary with size 1423.6 KiB\n",
      "23/11/29 13:51:40 WARN DAGScheduler: Broadcasting large task binary with size 1427.8 KiB\n",
      "23/11/29 13:51:40 WARN DAGScheduler: Broadcasting large task binary with size 1434.6 KiB\n",
      "23/11/29 13:51:40 WARN DAGScheduler: Broadcasting large task binary with size 1446.4 KiB\n",
      "23/11/29 13:51:41 WARN DAGScheduler: Broadcasting large task binary with size 1465.1 KiB\n",
      "23/11/29 13:51:41 WARN DAGScheduler: Broadcasting large task binary with size 1462.8 KiB\n",
      "23/11/29 13:51:41 WARN DAGScheduler: Broadcasting large task binary with size 1463.3 KiB\n",
      "23/11/29 13:51:42 WARN DAGScheduler: Broadcasting large task binary with size 1463.8 KiB\n",
      "23/11/29 13:51:42 WARN DAGScheduler: Broadcasting large task binary with size 1465.0 KiB\n",
      "23/11/29 13:51:42 WARN DAGScheduler: Broadcasting large task binary with size 1467.2 KiB\n",
      "23/11/29 13:51:42 WARN DAGScheduler: Broadcasting large task binary with size 1470.2 KiB\n",
      "23/11/29 13:51:42 WARN DAGScheduler: Broadcasting large task binary with size 1474.4 KiB\n",
      "23/11/29 13:51:43 WARN DAGScheduler: Broadcasting large task binary with size 1481.3 KiB\n",
      "23/11/29 13:51:43 WARN DAGScheduler: Broadcasting large task binary with size 1493.0 KiB\n",
      "23/11/29 13:51:43 WARN DAGScheduler: Broadcasting large task binary with size 1511.0 KiB\n",
      "23/11/29 13:51:44 WARN DAGScheduler: Broadcasting large task binary with size 1507.5 KiB\n",
      "23/11/29 13:51:44 WARN DAGScheduler: Broadcasting large task binary with size 1508.0 KiB\n",
      "23/11/29 13:51:44 WARN DAGScheduler: Broadcasting large task binary with size 1508.6 KiB\n",
      "23/11/29 13:51:44 WARN DAGScheduler: Broadcasting large task binary with size 1509.7 KiB\n",
      "23/11/29 13:51:44 WARN DAGScheduler: Broadcasting large task binary with size 1511.9 KiB\n",
      "23/11/29 13:51:45 WARN DAGScheduler: Broadcasting large task binary with size 1515.2 KiB\n",
      "23/11/29 13:51:45 WARN DAGScheduler: Broadcasting large task binary with size 1519.4 KiB\n",
      "23/11/29 13:51:45 WARN DAGScheduler: Broadcasting large task binary with size 1526.3 KiB\n",
      "23/11/29 13:51:45 WARN DAGScheduler: Broadcasting large task binary with size 1537.7 KiB\n",
      "23/11/29 13:51:46 WARN DAGScheduler: Broadcasting large task binary with size 1555.4 KiB\n",
      "23/11/29 13:51:46 WARN DAGScheduler: Broadcasting large task binary with size 1552.9 KiB\n",
      "23/11/29 13:51:46 WARN DAGScheduler: Broadcasting large task binary with size 1553.4 KiB\n",
      "23/11/29 13:51:47 WARN DAGScheduler: Broadcasting large task binary with size 1553.9 KiB\n",
      "23/11/29 13:51:47 WARN DAGScheduler: Broadcasting large task binary with size 1555.1 KiB\n",
      "23/11/29 13:51:47 WARN DAGScheduler: Broadcasting large task binary with size 1557.3 KiB\n",
      "23/11/29 13:51:47 WARN DAGScheduler: Broadcasting large task binary with size 1560.3 KiB\n",
      "23/11/29 13:51:47 WARN DAGScheduler: Broadcasting large task binary with size 1564.5 KiB\n",
      "23/11/29 13:51:48 WARN DAGScheduler: Broadcasting large task binary with size 1571.4 KiB\n",
      "23/11/29 13:51:48 WARN DAGScheduler: Broadcasting large task binary with size 1583.1 KiB\n",
      "23/11/29 13:51:48 WARN DAGScheduler: Broadcasting large task binary with size 1601.0 KiB\n",
      "23/11/29 13:51:49 WARN DAGScheduler: Broadcasting large task binary with size 1597.9 KiB\n",
      "23/11/29 13:51:49 WARN DAGScheduler: Broadcasting large task binary with size 1598.4 KiB\n",
      "23/11/29 13:51:49 WARN DAGScheduler: Broadcasting large task binary with size 1599.0 KiB\n",
      "23/11/29 13:51:49 WARN DAGScheduler: Broadcasting large task binary with size 1600.1 KiB\n",
      "23/11/29 13:51:49 WARN DAGScheduler: Broadcasting large task binary with size 1602.3 KiB\n",
      "23/11/29 13:51:50 WARN DAGScheduler: Broadcasting large task binary with size 1605.3 KiB\n",
      "23/11/29 13:51:50 WARN DAGScheduler: Broadcasting large task binary with size 1609.5 KiB\n",
      "23/11/29 13:51:50 WARN DAGScheduler: Broadcasting large task binary with size 1616.4 KiB\n",
      "23/11/29 13:51:50 WARN DAGScheduler: Broadcasting large task binary with size 1628.4 KiB\n",
      "23/11/29 13:51:51 WARN DAGScheduler: Broadcasting large task binary with size 1646.8 KiB\n",
      "23/11/29 13:51:51 WARN DAGScheduler: Broadcasting large task binary with size 1643.7 KiB\n",
      "23/11/29 13:51:51 WARN DAGScheduler: Broadcasting large task binary with size 1644.1 KiB\n",
      "23/11/29 13:51:52 WARN DAGScheduler: Broadcasting large task binary with size 1644.7 KiB\n",
      "23/11/29 13:51:52 WARN DAGScheduler: Broadcasting large task binary with size 1645.8 KiB\n",
      "23/11/29 13:51:52 WARN DAGScheduler: Broadcasting large task binary with size 1648.1 KiB\n",
      "23/11/29 13:51:52 WARN DAGScheduler: Broadcasting large task binary with size 1651.1 KiB\n",
      "23/11/29 13:51:52 WARN DAGScheduler: Broadcasting large task binary with size 1655.3 KiB\n",
      "23/11/29 13:51:53 WARN DAGScheduler: Broadcasting large task binary with size 1662.2 KiB\n",
      "23/11/29 13:51:53 WARN DAGScheduler: Broadcasting large task binary with size 1673.9 KiB\n",
      "23/11/29 13:51:53 WARN DAGScheduler: Broadcasting large task binary with size 1692.0 KiB\n",
      "23/11/29 13:51:54 WARN DAGScheduler: Broadcasting large task binary with size 1688.9 KiB\n",
      "23/11/29 13:51:54 WARN DAGScheduler: Broadcasting large task binary with size 1689.4 KiB\n",
      "23/11/29 13:51:54 WARN DAGScheduler: Broadcasting large task binary with size 1689.9 KiB\n",
      "23/11/29 13:51:54 WARN DAGScheduler: Broadcasting large task binary with size 1691.1 KiB\n",
      "23/11/29 13:51:55 WARN DAGScheduler: Broadcasting large task binary with size 1693.3 KiB\n",
      "23/11/29 13:51:55 WARN DAGScheduler: Broadcasting large task binary with size 1696.3 KiB\n",
      "23/11/29 13:51:55 WARN DAGScheduler: Broadcasting large task binary with size 1700.5 KiB\n",
      "23/11/29 13:51:55 WARN DAGScheduler: Broadcasting large task binary with size 1707.3 KiB\n",
      "23/11/29 13:51:56 WARN DAGScheduler: Broadcasting large task binary with size 1718.8 KiB\n",
      "23/11/29 13:51:56 WARN DAGScheduler: Broadcasting large task binary with size 1736.9 KiB\n",
      "23/11/29 13:51:56 WARN DAGScheduler: Broadcasting large task binary with size 1734.0 KiB\n",
      "23/11/29 13:51:57 WARN DAGScheduler: Broadcasting large task binary with size 1734.4 KiB\n",
      "23/11/29 13:51:57 WARN DAGScheduler: Broadcasting large task binary with size 1735.0 KiB\n",
      "23/11/29 13:51:57 WARN DAGScheduler: Broadcasting large task binary with size 1736.1 KiB\n",
      "23/11/29 13:51:57 WARN DAGScheduler: Broadcasting large task binary with size 1738.3 KiB\n",
      "23/11/29 13:51:57 WARN DAGScheduler: Broadcasting large task binary with size 1741.6 KiB\n",
      "23/11/29 13:51:58 WARN DAGScheduler: Broadcasting large task binary with size 1745.8 KiB\n",
      "23/11/29 13:51:58 WARN DAGScheduler: Broadcasting large task binary with size 1752.7 KiB\n",
      "23/11/29 13:51:58 WARN DAGScheduler: Broadcasting large task binary with size 1764.6 KiB\n",
      "23/11/29 13:51:58 WARN DAGScheduler: Broadcasting large task binary with size 1782.8 KiB\n",
      "23/11/29 13:51:59 WARN DAGScheduler: Broadcasting large task binary with size 1780.5 KiB\n",
      "23/11/29 13:51:59 WARN DAGScheduler: Broadcasting large task binary with size 1781.0 KiB\n",
      "23/11/29 13:51:59 WARN DAGScheduler: Broadcasting large task binary with size 1781.5 KiB\n",
      "23/11/29 13:52:00 WARN DAGScheduler: Broadcasting large task binary with size 1782.7 KiB\n",
      "23/11/29 13:52:00 WARN DAGScheduler: Broadcasting large task binary with size 1784.8 KiB\n",
      "23/11/29 13:52:00 WARN DAGScheduler: Broadcasting large task binary with size 1787.8 KiB\n",
      "23/11/29 13:52:00 WARN DAGScheduler: Broadcasting large task binary with size 1792.1 KiB\n",
      "23/11/29 13:52:01 WARN DAGScheduler: Broadcasting large task binary with size 1799.1 KiB\n",
      "23/11/29 13:52:01 WARN DAGScheduler: Broadcasting large task binary with size 1810.5 KiB\n",
      "23/11/29 13:52:01 WARN DAGScheduler: Broadcasting large task binary with size 1828.1 KiB\n",
      "23/11/29 13:52:01 WARN DAGScheduler: Broadcasting large task binary with size 1825.5 KiB\n",
      "23/11/29 13:52:02 WARN DAGScheduler: Broadcasting large task binary with size 1826.0 KiB\n",
      "23/11/29 13:52:02 WARN DAGScheduler: Broadcasting large task binary with size 1826.6 KiB\n",
      "23/11/29 13:52:02 WARN DAGScheduler: Broadcasting large task binary with size 1827.7 KiB\n",
      "23/11/29 13:52:02 WARN DAGScheduler: Broadcasting large task binary with size 1829.9 KiB\n",
      "23/11/29 13:52:03 WARN DAGScheduler: Broadcasting large task binary with size 1832.9 KiB\n",
      "23/11/29 13:52:03 WARN DAGScheduler: Broadcasting large task binary with size 1837.1 KiB\n",
      "23/11/29 13:52:03 WARN DAGScheduler: Broadcasting large task binary with size 1844.2 KiB\n",
      "23/11/29 13:52:03 WARN DAGScheduler: Broadcasting large task binary with size 1855.7 KiB\n",
      "23/11/29 13:52:04 WARN DAGScheduler: Broadcasting large task binary with size 1873.9 KiB\n",
      "23/11/29 13:52:04 WARN DAGScheduler: Broadcasting large task binary with size 1871.1 KiB\n",
      "23/11/29 13:52:05 WARN DAGScheduler: Broadcasting large task binary with size 1871.6 KiB\n",
      "23/11/29 13:52:05 WARN DAGScheduler: Broadcasting large task binary with size 1872.1 KiB\n",
      "23/11/29 13:52:05 WARN DAGScheduler: Broadcasting large task binary with size 1873.3 KiB\n",
      "23/11/29 13:52:05 WARN DAGScheduler: Broadcasting large task binary with size 1875.5 KiB\n",
      "23/11/29 13:52:05 WARN DAGScheduler: Broadcasting large task binary with size 1878.5 KiB\n",
      "23/11/29 13:52:06 WARN DAGScheduler: Broadcasting large task binary with size 1882.6 KiB\n",
      "23/11/29 13:52:06 WARN DAGScheduler: Broadcasting large task binary with size 1889.5 KiB\n",
      "23/11/29 13:52:06 WARN DAGScheduler: Broadcasting large task binary with size 1900.9 KiB\n",
      "23/11/29 13:52:06 WARN DAGScheduler: Broadcasting large task binary with size 1919.2 KiB\n",
      "23/11/29 13:52:07 WARN DAGScheduler: Broadcasting large task binary with size 1917.1 KiB\n",
      "23/11/29 13:52:07 WARN DAGScheduler: Broadcasting large task binary with size 1917.6 KiB\n",
      "23/11/29 13:52:07 WARN DAGScheduler: Broadcasting large task binary with size 1918.2 KiB\n",
      "23/11/29 13:52:08 WARN DAGScheduler: Broadcasting large task binary with size 1919.3 KiB\n",
      "23/11/29 13:52:08 WARN DAGScheduler: Broadcasting large task binary with size 1921.5 KiB\n",
      "23/11/29 13:52:08 WARN DAGScheduler: Broadcasting large task binary with size 1924.5 KiB\n",
      "23/11/29 13:52:08 WARN DAGScheduler: Broadcasting large task binary with size 1928.6 KiB\n",
      "23/11/29 13:52:09 WARN DAGScheduler: Broadcasting large task binary with size 1935.5 KiB\n",
      "23/11/29 13:52:09 WARN DAGScheduler: Broadcasting large task binary with size 1947.2 KiB\n",
      "23/11/29 13:52:09 WARN DAGScheduler: Broadcasting large task binary with size 1965.6 KiB\n",
      "23/11/29 13:52:10 WARN DAGScheduler: Broadcasting large task binary with size 1963.2 KiB\n",
      "23/11/29 13:52:10 WARN DAGScheduler: Broadcasting large task binary with size 1963.6 KiB\n",
      "23/11/29 13:52:10 WARN DAGScheduler: Broadcasting large task binary with size 1964.2 KiB\n",
      "23/11/29 13:52:10 WARN DAGScheduler: Broadcasting large task binary with size 1965.3 KiB\n",
      "23/11/29 13:52:11 WARN DAGScheduler: Broadcasting large task binary with size 1967.6 KiB\n",
      "23/11/29 13:52:11 WARN DAGScheduler: Broadcasting large task binary with size 1970.6 KiB\n",
      "23/11/29 13:52:11 WARN DAGScheduler: Broadcasting large task binary with size 1974.8 KiB\n",
      "23/11/29 13:52:11 WARN DAGScheduler: Broadcasting large task binary with size 1981.6 KiB\n",
      "23/11/29 13:52:12 WARN DAGScheduler: Broadcasting large task binary with size 1993.9 KiB\n",
      "23/11/29 13:52:12 WARN DAGScheduler: Broadcasting large task binary with size 2013.4 KiB\n",
      "23/11/29 13:52:12 WARN DAGScheduler: Broadcasting large task binary with size 2010.2 KiB\n",
      "23/11/29 13:52:13 WARN DAGScheduler: Broadcasting large task binary with size 2010.7 KiB\n",
      "23/11/29 13:52:13 WARN DAGScheduler: Broadcasting large task binary with size 2011.2 KiB\n",
      "23/11/29 13:52:13 WARN DAGScheduler: Broadcasting large task binary with size 2012.4 KiB\n",
      "23/11/29 13:52:13 WARN DAGScheduler: Broadcasting large task binary with size 2014.5 KiB\n",
      "23/11/29 13:52:14 WARN DAGScheduler: Broadcasting large task binary with size 2017.5 KiB\n",
      "23/11/29 13:52:14 WARN DAGScheduler: Broadcasting large task binary with size 2021.8 KiB\n",
      "23/11/29 13:52:14 WARN DAGScheduler: Broadcasting large task binary with size 2028.8 KiB\n",
      "23/11/29 13:52:14 WARN DAGScheduler: Broadcasting large task binary with size 2040.3 KiB\n",
      "23/11/29 13:52:15 WARN DAGScheduler: Broadcasting large task binary with size 2.0 MiB\n",
      "23/11/29 13:52:15 WARN DAGScheduler: Broadcasting large task binary with size 2.0 MiB\n",
      "23/11/29 13:52:16 WARN DAGScheduler: Broadcasting large task binary with size 2.0 MiB\n",
      "23/11/29 13:52:16 WARN DAGScheduler: Broadcasting large task binary with size 2.0 MiB\n",
      "23/11/29 13:52:16 WARN DAGScheduler: Broadcasting large task binary with size 2.0 MiB\n",
      "23/11/29 13:52:16 WARN DAGScheduler: Broadcasting large task binary with size 2.0 MiB\n",
      "23/11/29 13:52:16 WARN DAGScheduler: Broadcasting large task binary with size 2.0 MiB\n",
      "23/11/29 13:52:17 WARN DAGScheduler: Broadcasting large task binary with size 2.0 MiB\n",
      "23/11/29 13:52:17 WARN DAGScheduler: Broadcasting large task binary with size 2.0 MiB\n",
      "23/11/29 13:52:17 WARN DAGScheduler: Broadcasting large task binary with size 2.0 MiB\n",
      "23/11/29 13:52:18 WARN DAGScheduler: Broadcasting large task binary with size 2.1 MiB\n",
      "23/11/29 13:52:18 WARN DAGScheduler: Broadcasting large task binary with size 2.1 MiB\n",
      "23/11/29 13:52:18 WARN DAGScheduler: Broadcasting large task binary with size 2.1 MiB\n",
      "23/11/29 13:52:19 WARN DAGScheduler: Broadcasting large task binary with size 2.1 MiB\n",
      "23/11/29 13:52:19 WARN DAGScheduler: Broadcasting large task binary with size 2.1 MiB\n",
      "23/11/29 13:52:19 WARN DAGScheduler: Broadcasting large task binary with size 2.1 MiB\n",
      "23/11/29 13:52:19 WARN DAGScheduler: Broadcasting large task binary with size 2.1 MiB\n",
      "23/11/29 13:52:20 WARN DAGScheduler: Broadcasting large task binary with size 2.1 MiB\n",
      "23/11/29 13:52:20 WARN DAGScheduler: Broadcasting large task binary with size 2.1 MiB\n",
      "23/11/29 13:52:20 WARN DAGScheduler: Broadcasting large task binary with size 2.1 MiB\n",
      "23/11/29 13:52:20 WARN DAGScheduler: Broadcasting large task binary with size 2.1 MiB\n"
     ]
    },
    {
     "name": "stderr",
     "output_type": "stream",
     "text": [
      "[Stage 1299:====================================================> (39 + 1) / 40]\r"
     ]
    },
    {
     "name": "stdout",
     "output_type": "stream",
     "text": [
      "23/11/29 13:52:32 WARN DAGScheduler: Broadcasting large task binary with size 2.1 MiB\n"
     ]
    },
    {
     "name": "stderr",
     "output_type": "stream",
     "text": [
      "[Stage 1301:>                                                     (0 + 40) / 45]\r"
     ]
    },
    {
     "name": "stdout",
     "output_type": "stream",
     "text": [
      "23/11/29 13:52:34 WARN InstanceBuilder$NativeBLAS: Failed to load implementation from:dev.ludovic.netlib.blas.JNIBLAS\n",
      "23/11/29 13:52:34 WARN InstanceBuilder$NativeBLAS: Failed to load implementation from:dev.ludovic.netlib.blas.ForeignLinkerBLAS\n"
     ]
    },
    {
     "name": "stderr",
     "output_type": "stream",
     "text": [
      "                                                                                \r"
     ]
    },
    {
     "name": "stdout",
     "output_type": "stream",
     "text": [
      "Area under ROC curve:  0.9993552338414612\n",
      "Requirement already satisfied: scikit-learn in /home/ppathi/miniconda3/envs/ml/lib/python3.10/site-packages (1.3.2)\n",
      "Requirement already satisfied: numpy<2.0,>=1.17.3 in /home/ppathi/miniconda3/envs/ml/lib/python3.10/site-packages (from scikit-learn) (1.24.3)\n",
      "Requirement already satisfied: scipy>=1.5.0 in /home/ppathi/miniconda3/envs/ml/lib/python3.10/site-packages (from scikit-learn) (1.11.4)\n",
      "Requirement already satisfied: joblib>=1.1.1 in /home/ppathi/miniconda3/envs/ml/lib/python3.10/site-packages (from scikit-learn) (1.3.2)\n",
      "Requirement already satisfied: threadpoolctl>=2.0.0 in /home/ppathi/miniconda3/envs/ml/lib/python3.10/site-packages (from scikit-learn) (3.2.0)\n"
     ]
    },
    {
     "name": "stderr",
     "output_type": "stream",
     "text": [
      "[Stage 1318:=================================>                   (25 + 15) / 40]\r"
     ]
    },
    {
     "name": "stdout",
     "output_type": "stream",
     "text": [
      "23/11/29 13:52:55 WARN DAGScheduler: Broadcasting large task binary with size 2.1 MiB\n"
     ]
    },
    {
     "name": "stderr",
     "output_type": "stream",
     "text": [
      "                                                                                \r"
     ]
    },
    {
     "data": {
      "image/png": "[encoded data removed]",
      "text/plain": [
       "<Figure size 640x480 with 1 Axes>"
      ]
     },
     "metadata": {},
     "output_type": "display_data"
    }
   ],
   "source": [
    "from pyspark.ml.classification import GBTClassifier\n",
    "from pyspark.ml.evaluation import BinaryClassificationEvaluator\n",
    "\n",
    "gbt = GBTClassifier(labelCol=\"anomaly\", featuresCol=\"pca_features\", maxIter=40, maxDepth=10, maxBins=40)\n",
    "gbtModel = gbt.fit(train)\n",
    "\n",
    "predictions = gbtModel.transform(test)\n",
    "\n",
    "evaluator = BinaryClassificationEvaluator(labelCol=\"anomaly\", rawPredictionCol=\"prediction\", metricName=\"areaUnderROC\")\n",
    "print(\"Area under ROC curve: \", evaluator.evaluate(predictions))\n",
    "\n",
    "! pip install scikit-learn\n",
    "from sklearn.metrics import roc_curve, auc\n",
    "import numpy as np\n",
    "import matplotlib.pyplot as plt\n",
    "\n",
    "y_true = np.array(predictions.select(\"anomaly\").collect())\n",
    "y_pred = np.array(predictions.select(\"prediction\").collect())\n",
    "fpr, tpr, thresholds = roc_curve(y_true, y_pred)\n",
    "roc_auc = auc(fpr, tpr)\n",
    "plt.plot(fpr, tpr, lw=1, alpha=0.3, label='ROC (AUC = %0.2f)' % (roc_auc))\n",
    "plt.plot([0, 1], [0, 1], linestyle='--', lw=1, color='r', alpha=0.3, label='Random')\n",
    "plt.xlabel('False Positive Rate')\n",
    "plt.ylabel('True Positive Rate')\n",
    "plt.title('ROC Curve')\n",
    "plt.legend(loc=\"lower right\")\n",
    "plt.show()"
   ]
  },
  {
   "cell_type": "code",
   "execution_count": 17,
   "metadata": {},
   "outputs": [
    {
     "name": "stdout",
     "output_type": "stream",
     "text": [
      "## Confusion Matrix ##\n",
      "[[244232     59]\n",
      " [    82  78161]]\n"
     ]
    }
   ],
   "source": [
    "# print the confusion matrix\n",
    "from sklearn.metrics import confusion_matrix\n",
    "cm = confusion_matrix(y_true, y_pred)\n",
    "print('## Confusion Matrix ##')\n",
    "print(cm)"
   ]
  }
 ],
 "metadata": {
  "kernelspec": {
   "display_name": "ml",
   "language": "python",
   "name": "python3"
  },
  "language_info": {
   "codemirror_mode": {
    "name": "ipython",
    "version": 3
   },
   "file_extension": ".py",
   "mimetype": "text/x-python",
   "name": "python",
   "nbconvert_exporter": "python",
   "pygments_lexer": "ipython3",
   "version": "3.10.11"
  }
 },
 "nbformat": 4,
 "nbformat_minor": 2
}
